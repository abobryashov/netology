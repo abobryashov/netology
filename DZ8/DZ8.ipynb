{
 "cells": [
  {
   "cell_type": "code",
   "execution_count": 13,
   "id": "4dd7617b-3c1e-46fe-aea8-e2e4a6c1e081",
   "metadata": {},
   "outputs": [
    {
     "name": "stdout",
     "output_type": "stream",
     "text": [
      "The currency with the maximum rate for CNY is 'Китайский юань' with a rate of 13.52\n"
     ]
    }
   ],
   "source": [
    "import requests\n",
    "\n",
    "def get_currency_with_max_rate():\n",
    "    # Запрашиваем данные с API ЦБ РФ\n",
    "    url = \"https://www.cbr-xml-daily.ru/daily_json.js\"\n",
    "    response = requests.get(url)\n",
    "    if response.status_code == 200:\n",
    "        data = response.json()\n",
    "        # Извлекаем информацию о китайских юанях (CNY)\n",
    "        cny_info = data['Valute'].get('CNY')\n",
    "        if cny_info:\n",
    "            name = cny_info['Name']\n",
    "            rate = cny_info['Value']\n",
    "            return f\"The currency with the maximum rate for CNY is '{name}' with a rate of {rate:.2f}\"\n",
    "        else:\n",
    "            return \"CNY information is not available in the data.\"\n",
    "    else:\n",
    "        return f\"Failed to fetch data. HTTP Status Code: {response.status_code}\"\n",
    "\n",
    "# Вызов функции\n",
    "result = get_currency_with_max_rate()\n",
    "print(result)"
   ]
  },
  {
   "cell_type": "code",
   "execution_count": null,
   "id": "b1f335ff-40aa-4215-8262-c5a963baf6f1",
   "metadata": {},
   "outputs": [],
   "source": []
  }
 ],
 "metadata": {
  "kernelspec": {
   "display_name": "Python 3 (ipykernel)",
   "language": "python",
   "name": "python3"
  },
  "language_info": {
   "codemirror_mode": {
    "name": "ipython",
    "version": 3
   },
   "file_extension": ".py",
   "mimetype": "text/x-python",
   "name": "python",
   "nbconvert_exporter": "python",
   "pygments_lexer": "ipython3",
   "version": "3.12.7"
  }
 },
 "nbformat": 4,
 "nbformat_minor": 5
}
