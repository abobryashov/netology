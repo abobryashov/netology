{
 "cells": [
  {
   "cell_type": "code",
   "execution_count": null,
   "id": "4dd7617b-3c1e-46fe-aea8-e2e4a6c1e081",
   "metadata": {},
   "outputs": [],
   "source": []
  }
 ],
 "metadata": {
  "kernelspec": {
   "display_name": "",
   "name": ""
  },
  "language_info": {
   "name": ""
  }
 },
 "nbformat": 4,
 "nbformat_minor": 5
}
