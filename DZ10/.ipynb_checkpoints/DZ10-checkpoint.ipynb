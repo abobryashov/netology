{
 "cells": [
  {
   "cell_type": "code",
   "execution_count": 9,
   "id": "392b10cf-59ff-4a41-85ef-3969b1f97c00",
   "metadata": {},
   "outputs": [
    {
     "data": {
      "text/plain": [
       "(   movieId                               title  \\\n",
       " 0        1                    Toy Story (1995)   \n",
       " 1        2                      Jumanji (1995)   \n",
       " 2        3             Grumpier Old Men (1995)   \n",
       " 3        4            Waiting to Exhale (1995)   \n",
       " 4        5  Father of the Bride Part II (1995)   \n",
       " \n",
       "                                         genres  \n",
       " 0  Adventure|Animation|Children|Comedy|Fantasy  \n",
       " 1                   Adventure|Children|Fantasy  \n",
       " 2                               Comedy|Romance  \n",
       " 3                         Comedy|Drama|Romance  \n",
       " 4                                       Comedy  ,\n",
       "    userId  movieId  rating  timestamp\n",
       " 0       1        1     4.0  964982703\n",
       " 1       1        3     4.0  964981247\n",
       " 2       1        6     4.0  964982224\n",
       " 3       1       47     5.0  964983815\n",
       " 4       1       50     5.0  964982931)"
      ]
     },
     "execution_count": 9,
     "metadata": {},
     "output_type": "execute_result"
    }
   ],
   "source": [
    "import pandas as pd\n",
    "\n",
    "# Load the uploaded files\n",
    "movies_file_path = 'movies.csv'\n",
    "ratings_file_path = 'ratings.csv'\n",
    "\n",
    "movies = pd.read_csv(movies_file_path)\n",
    "ratings = pd.read_csv(ratings_file_path)\n",
    "\n",
    "# Inspect the structure of the files\n",
    "movies.head(), ratings.head()\n"
   ]
  },
  {
   "cell_type": "code",
   "execution_count": 11,
   "id": "5b10b3ff-7198-45f4-a262-681affbfbb53",
   "metadata": {},
   "outputs": [
    {
     "data": {
      "text/plain": [
       "'Shawshank Redemption, The (1994)'"
      ]
     },
     "execution_count": 11,
     "metadata": {},
     "output_type": "execute_result"
    }
   ],
   "source": [
    "# Filter ratings for 5.0 and count them for each movie\n",
    "top_rated_movies = ratings[ratings['rating'] == 5.0].groupby('movieId').size().reset_index(name='count')\n",
    "\n",
    "# Find the movie with the most 5.0 ratings\n",
    "top_movie_id = top_rated_movies.loc[top_rated_movies['count'].idxmax(), 'movieId']\n",
    "\n",
    "# Get the title of the top-rated movie\n",
    "top_movie_title = movies[movies['movieId'] == top_movie_id]['title'].values[0]\n",
    "top_movie_title\n"
   ]
  },
  {
   "cell_type": "code",
   "execution_count": null,
   "id": "02b25e35-7f77-4860-be9b-d31ce933eecf",
   "metadata": {},
   "outputs": [],
   "source": []
  }
 ],
 "metadata": {
  "kernelspec": {
   "display_name": "Python 3 (ipykernel)",
   "language": "python",
   "name": "python3"
  },
  "language_info": {
   "codemirror_mode": {
    "name": "ipython",
    "version": 3
   },
   "file_extension": ".py",
   "mimetype": "text/x-python",
   "name": "python",
   "nbconvert_exporter": "python",
   "pygments_lexer": "ipython3",
   "version": "3.12.7"
  }
 },
 "nbformat": 4,
 "nbformat_minor": 5
}
