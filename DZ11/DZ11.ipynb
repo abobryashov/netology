{
 "cells": [
  {
   "cell_type": "code",
   "execution_count": 9,
   "id": "2c98376d-217a-4f2e-ba04-cc9c243ea3d1",
   "metadata": {},
   "outputs": [
    {
     "name": "stdout",
     "output_type": "stream",
     "text": [
      "   movieId                               title  \\\n",
      "0        1                    Toy Story (1995)   \n",
      "1        2                      Jumanji (1995)   \n",
      "2        3             Grumpier Old Men (1995)   \n",
      "3        4            Waiting to Exhale (1995)   \n",
      "4        5  Father of the Bride Part II (1995)   \n",
      "\n",
      "                                        genres  average_rating  \\\n",
      "0  Adventure|Animation|Children|Comedy|Fantasy        3.872470   \n",
      "1                   Adventure|Children|Fantasy        3.401869   \n",
      "2                               Comedy|Romance        3.161017   \n",
      "3                         Comedy|Drama|Romance        2.384615   \n",
      "4                                       Comedy        3.267857   \n",
      "\n",
      "             class  \n",
      "0  средний рейтинг  \n",
      "1  средний рейтинг  \n",
      "2  средний рейтинг  \n",
      "3  средний рейтинг  \n",
      "4  средний рейтинг  \n"
     ]
    }
   ],
   "source": [
    "import pandas as pd\n",
    "\n",
    "# Загружаем данные из предоставленных CSV файлов\n",
    "movies = pd.read_csv(\"movies.csv\")\n",
    "ratings = pd.read_csv(\"ratings.csv\")\n",
    "\n",
    "# Объединяем наборы данных, чтобы включить названия фильмов в данные о рейтингах\n",
    "data = ratings.merge(movies, on=\"movieId\")\n",
    "\n",
    "# Вычисляем средний рейтинг для каждого фильма\n",
    "average_ratings = data.groupby(\"movieId\")[\"rating\"].mean().reset_index()\n",
    "average_ratings = average_ratings.rename(columns={\"rating\": \"average_rating\"})\n",
    "\n",
    "# Объединяем данные о средних рейтингах с таблицей фильмов\n",
    "movies_with_ratings = movies.merge(average_ratings, on=\"movieId\")\n",
    "\n",
    "# Определяем функцию классификации рейтинга\n",
    "def classify_rating(rating):\n",
    "    if rating <= 2:\n",
    "        return \"низкий рейтинг\"  # Если рейтинг меньше или равен 2, возвращаем \"низкий рейтинг\"\n",
    "    elif rating <= 4:\n",
    "        return \"средний рейтинг\"  # Если рейтинг меньше или равен 4, возвращаем \"средний рейтинг\"\n",
    "    else:\n",
    "        return \"высокий рейтинг\"  # Если рейтинг больше 4, возвращаем \"высокий рейтинг\"\n",
    "\n",
    "# Применяем классификацию к данным\n",
    "movies_with_ratings[\"class\"] = movies_with_ratings[\"average_rating\"].apply(classify_rating)\n",
    "\n",
    "# Сохраняем результат в новый CSV файл\n",
    "movies_with_ratings.to_csv(\"movies_with_classification.csv\", index=False)\n",
    "\n",
    "# Выводим предварительный просмотр результата\n",
    "print(movies_with_ratings.head())\n"
   ]
  },
  {
   "cell_type": "code",
   "execution_count": null,
   "id": "885da590-5411-44d7-a9eb-e4af1ddaf0e9",
   "metadata": {},
   "outputs": [],
   "source": []
  }
 ],
 "metadata": {
  "kernelspec": {
   "display_name": "Python 3 (ipykernel)",
   "language": "python",
   "name": "python3"
  },
  "language_info": {
   "codemirror_mode": {
    "name": "ipython",
    "version": 3
   },
   "file_extension": ".py",
   "mimetype": "text/x-python",
   "name": "python",
   "nbconvert_exporter": "python",
   "pygments_lexer": "ipython3",
   "version": "3.12.7"
  }
 },
 "nbformat": 4,
 "nbformat_minor": 5
}
