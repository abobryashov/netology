{
 "cells": [
  {
   "cell_type": "code",
   "execution_count": null,
   "id": "dcf50d1e-8e1e-47c1-8317-44307f5903a9",
   "metadata": {},
   "outputs": [],
   "source": []
  }
 ],
 "metadata": {
  "kernelspec": {
   "display_name": "",
   "name": ""
  },
  "language_info": {
   "name": ""
  }
 },
 "nbformat": 4,
 "nbformat_minor": 5
}
