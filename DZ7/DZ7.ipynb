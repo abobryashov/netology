{
 "cells": [
  {
   "cell_type": "code",
   "execution_count": 5,
   "id": "5066de45-1bb1-4b1c-8f05-d7eaa5587afc",
   "metadata": {},
   "outputs": [
    {
     "name": "stdout",
     "output_type": "stream",
     "text": [
      "The Moscow Times: 2002-10-02 00:00:00\n",
      "The Guardian: 2013-10-11 00:00:00\n",
      "Daily News: 1977-08-18 00:00:00\n"
     ]
    }
   ],
   "source": [
    "from datetime import datetime\n",
    "\n",
    "# Список дат и их форматов\n",
    "newspaper_dates = {\n",
    "    \"The Moscow Times\": (\"Wednesday, October 2, 2002\", \"%A, %B %d, %Y\"),\n",
    "    \"The Guardian\": (\"Friday, 11.10.13\", \"%A, %d.%m.%y\"),\n",
    "    \"Daily News\": (\"Thursday, 18 August 1977\", \"%A, %d %B %Y\"),\n",
    "}\n",
    "\n",
    "# Преобразование дат в объекты datetime и вывод\n",
    "for newspaper, (date_str, date_format) in newspaper_dates.items():\n",
    "    parsed_date = datetime.strptime(date_str, date_format)\n",
    "    print(f\"{newspaper}: {parsed_date}\")\n"
   ]
  }
 ],
 "metadata": {
  "kernelspec": {
   "display_name": "Python 3 (ipykernel)",
   "language": "python",
   "name": "python3"
  },
  "language_info": {
   "codemirror_mode": {
    "name": "ipython",
    "version": 3
   },
   "file_extension": ".py",
   "mimetype": "text/x-python",
   "name": "python",
   "nbconvert_exporter": "python",
   "pygments_lexer": "ipython3",
   "version": "3.12.7"
  }
 },
 "nbformat": 4,
 "nbformat_minor": 5
}
