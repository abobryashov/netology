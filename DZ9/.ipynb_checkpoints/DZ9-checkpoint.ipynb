{
 "cells": [
  {
   "cell_type": "code",
   "execution_count": 17,
   "id": "a638a955-5ace-46c3-b710-79a6a9be2d53",
   "metadata": {},
   "outputs": [
    {
     "name": "stdout",
     "output_type": "stream",
     "text": [
      "Номер А222ВС валиден. Регион: 96.\n",
      "Номер не валиден.\n"
     ]
    }
   ],
   "source": [
    "import re\n",
    "\n",
    "def validate_car_number(car_id):\n",
    "    # Список допустимых букв в номерах\n",
    "    allowed_letters = 'АВЕКМНОРСТУХ'\n",
    "    \n",
    "    # Регулярное выражение для проверки формата номера\n",
    "    pattern = r'^([АВЕКМНОРСТУХ])(\\d{3})([АВЕКМНОРСТУХ]{2})(\\d{2,3})$'\n",
    "    match = re.match(pattern, car_id)\n",
    "    \n",
    "    if match:\n",
    "        # Разбиваем номер на части\n",
    "        letter1, digits, letters2, region = match.groups()\n",
    "        \n",
    "        # Проверяем, что все буквы находятся в допустимом списке\n",
    "        if all(char in allowed_letters for char in (letter1 + letters2)):\n",
    "            return f\"Номер {letter1}{digits}{letters2} валиден. Регион: {region}.\"\n",
    "        else:\n",
    "            return \"Номер не валиден.\"\n",
    "    else:\n",
    "        return \"Номер не валиден.\"\n",
    "\n",
    "# Примеры работы функции\n",
    "car_id_1 = 'А222ВС96'\n",
    "car_id_2 = 'АБ22ВВ193'\n",
    "\n",
    "print(validate_car_number(car_id_1))  # Номер А222ВС валиден. Регион: 96.\n",
    "print(validate_car_number(car_id_2))  # Номер не валиден.\n"
   ]
  }
 ],
 "metadata": {
  "kernelspec": {
   "display_name": "Python 3 (ipykernel)",
   "language": "python",
   "name": "python3"
  },
  "language_info": {
   "codemirror_mode": {
    "name": "ipython",
    "version": 3
   },
   "file_extension": ".py",
   "mimetype": "text/x-python",
   "name": "python",
   "nbconvert_exporter": "python",
   "pygments_lexer": "ipython3",
   "version": "3.12.7"
  }
 },
 "nbformat": 4,
 "nbformat_minor": 5
}
