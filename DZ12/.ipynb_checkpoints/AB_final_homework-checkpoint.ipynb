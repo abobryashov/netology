{
 "cells": [
  {
   "cell_type": "code",
   "execution_count": 56,
   "id": "a8e69de1-516b-4929-a71a-88beb7ef801f",
   "metadata": {},
   "outputs": [],
   "source": [
    "import pandas as pd"
   ]
  },
  {
   "cell_type": "code",
   "execution_count": 58,
   "id": "dcd3932a-f760-4119-8096-d1dae2ed4301",
   "metadata": {},
   "outputs": [],
   "source": [
    "# Читаем файл с данными\n",
    "file_path = \"movies_stats.csv\"\n",
    "data = pd.read_csv(file_path)"
   ]
  },
  {
   "cell_type": "code",
   "execution_count": 60,
   "id": "a7a55e4e-10fd-4a29-8f7a-c70b59d09c1a",
   "metadata": {},
   "outputs": [],
   "source": [
    "# Список годов для анализа\n",
    "years = list(range(1950, 2011))"
   ]
  },
  {
   "cell_type": "code",
   "execution_count": 62,
   "id": "5dc00e1c-ba35-4b22-9f1d-3ab01b3d2f7d",
   "metadata": {},
   "outputs": [],
   "source": [
    "# Функция для определения года выпуска фильма\n",
    "def production_year(title):\n",
    "    for year in years:\n",
    "        if str(year) in title:\n",
    "            return year\n",
    "    return 1900"
   ]
  },
  {
   "cell_type": "code",
   "execution_count": 64,
   "id": "5b92f6e1-2949-45ee-a8f5-db96eefd3001",
   "metadata": {},
   "outputs": [],
   "source": [
    "# Применяем функцию к названию фильмов и добавляем новый столбец 'year'\n",
    "data['year'] = data['title'].apply(production_year)"
   ]
  },
  {
   "cell_type": "code",
   "execution_count": 66,
   "id": "5df7a78f-09fe-4b2c-ad36-9257c507913f",
   "metadata": {},
   "outputs": [],
   "source": [
    "# Считаем средний рейтинг для каждого года\n",
    "average_ratings = data.groupby('year')['rating'].mean().reset_index()"
   ]
  },
  {
   "cell_type": "code",
   "execution_count": 68,
   "id": "908f6227-69fc-47d6-a59f-46f48fb148eb",
   "metadata": {},
   "outputs": [],
   "source": [
    "# Сортируем по убыванию среднего рейтинга\n",
    "average_ratings = average_ratings.sort_values(by='rating', ascending=False)"
   ]
  },
  {
   "cell_type": "code",
   "execution_count": 70,
   "id": "a97bbe9e-7f0d-4c68-946a-c661fe7d7ed2",
   "metadata": {},
   "outputs": [],
   "source": [
    "# Сохраняем результат в новый файл\n",
    "output_path = \"average_ratings_by_year.csv\"\n",
    "average_ratings.to_csv(output_path, index=False)"
   ]
  },
  {
   "cell_type": "code",
   "execution_count": 72,
   "id": "4cfc90f9-d635-4950-bbdf-dc995917fb69",
   "metadata": {},
   "outputs": [
    {
     "name": "stdout",
     "output_type": "stream",
     "text": [
      "    year    rating\n",
      "8   1957  4.014241\n",
      "23  1972  4.011136\n",
      "3   1952  4.000000\n",
      "5   1954  3.994220\n",
      "2   1951  3.983539\n"
     ]
    }
   ],
   "source": [
    "# Выводим первые строки результата\n",
    "print(average_ratings.head())"
   ]
  },
  {
   "cell_type": "code",
   "execution_count": null,
   "id": "1a45ef22-89dd-4e31-8bf1-92e1655bb1b3",
   "metadata": {},
   "outputs": [],
   "source": []
  },
  {
   "cell_type": "code",
   "execution_count": null,
   "id": "aa609413-a205-4e3e-9113-d034b3efc9f6",
   "metadata": {},
   "outputs": [],
   "source": []
  },
  {
   "cell_type": "code",
   "execution_count": null,
   "id": "1768db29-6d87-46d0-a0f0-f1232ee227f3",
   "metadata": {},
   "outputs": [],
   "source": []
  }
 ],
 "metadata": {
  "kernelspec": {
   "display_name": "Python 3 (ipykernel)",
   "language": "python",
   "name": "python3"
  },
  "language_info": {
   "codemirror_mode": {
    "name": "ipython",
    "version": 3
   },
   "file_extension": ".py",
   "mimetype": "text/x-python",
   "name": "python",
   "nbconvert_exporter": "python",
   "pygments_lexer": "ipython3",
   "version": "3.12.7"
  }
 },
 "nbformat": 4,
 "nbformat_minor": 5
}
