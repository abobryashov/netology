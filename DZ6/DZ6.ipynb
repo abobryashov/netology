{
 "cells": [
  {
   "cell_type": "code",
   "execution_count": 5,
   "id": "dcf50d1e-8e1e-47c1-8317-44307f5903a9",
   "metadata": {},
   "outputs": [
    {
     "name": "stdout",
     "output_type": "stream",
     "text": [
      "user_id category\n",
      "1840e0b9d4 Продукты\n"
     ]
    }
   ],
   "source": [
    "import json\n",
    "\n",
    "def load_purchases(filename):\n",
    "    purchases = {}\n",
    "    with open(filename, 'r', encoding='utf-8') as f:\n",
    "        for line in f:\n",
    "            line = line.strip()\n",
    "            if line:\n",
    "                data = json.loads(line)\n",
    "                user_id = data.get('user_id')\n",
    "                category = data.get('category')\n",
    "                if user_id and category:\n",
    "                    purchases[user_id] = category\n",
    "    return purchases\n",
    "\n",
    "if __name__ == '__main__':\n",
    "    purchases = load_purchases('purchase_log.txt')\n",
    "\n",
    "    # Вывод первых двух элементов словаря\n",
    "    count = 0\n",
    "    for user_id, category in purchases.items():\n",
    "        print(user_id, category)\n",
    "        count += 1\n",
    "        if count == 2:\n",
    "            break\n"
   ]
  },
  {
   "cell_type": "code",
   "execution_count": null,
   "id": "6db5b12f-736d-43ce-a692-f0dc9c6d4adc",
   "metadata": {},
   "outputs": [],
   "source": []
  }
 ],
 "metadata": {
  "kernelspec": {
   "display_name": "Python 3 (ipykernel)",
   "language": "python",
   "name": "python3"
  },
  "language_info": {
   "codemirror_mode": {
    "name": "ipython",
    "version": 3
   },
   "file_extension": ".py",
   "mimetype": "text/x-python",
   "name": "python",
   "nbconvert_exporter": "python",
   "pygments_lexer": "ipython3",
   "version": "3.12.7"
  }
 },
 "nbformat": 4,
 "nbformat_minor": 5
}
